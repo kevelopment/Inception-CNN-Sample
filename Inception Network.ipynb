{
 "cells": [
  {
   "cell_type": "markdown",
   "metadata": {},
   "source": [
    "## Inception-CNN zur Klassifizierung von Bildern"
   ]
  },
  {
   "cell_type": "markdown",
   "metadata": {},
   "source": [
    "Die Implementierung des hier vorgestellten, auf der Inception-Architektur basierenden Convolutional Neural Network hat zum Ziel die Klassifizierung zweier Datensätze zu übernehmen. Einerseits der \"trauben\" Datensatz, welcher aus Bildern von weißen und blauen Trauben besteht, andererseits der \"lotr\" Datensatz, der Bilder von Schauspielern aus den Herr der Ringe Filmen enthält. \n",
    "\n",
    "Da das Netzwerk für den Trauben-Datensatz bereits nach insgesamt 400 Iterationen konvergierte, wurde das Beispiel um einen zweiten Datensatz erweitert.\n",
    "\n",
    "Die Grundidee dieses auf der Inception Architektur basierenden CNN basiert auf den von GoogLeNet eingeführten Inception Modulen, die mehrere parallele Convolutions ausführen und deren Feature-Maps mit dem Resultat eines Pooling-Layer konkatenieren. Weiterhin wurde die Idee des Verzichtes auf Fully-Connected Layer übernommen, um die Größe des Netzwerkes zu beschränken."
   ]
  },
  {
   "cell_type": "markdown",
   "metadata": {},
   "source": [
    "### Imports\n",
    "Die für diese Implementierung benötigten Imports beinhalten:"
   ]
  },
  {
   "cell_type": "code",
   "execution_count": 1,
   "metadata": {},
   "outputs": [],
   "source": [
    "%matplotlib inline\n",
    "import matplotlib.pyplot as plt  # Darstellen von Bildern innerhalb des Notebook\n",
    "import tensorflow as tf          # Die TensorFlow API\n",
    "import numpy as np               # Konvertieren und Laden von Bildern\n",
    "import time                      \n",
    "from datetime import timedelta   # Zeitmessungen\n",
    "import os                        # Laden von Bildpfaden, Bildern o.ä."
   ]
  },
  {
   "cell_type": "markdown",
   "metadata": {},
   "source": [
    "### Datensatz laden"
   ]
  },
  {
   "cell_type": "markdown",
   "metadata": {},
   "source": [
    "Um das hier implementierte Inception-CNN erfolgreich trainieren zu können, wird ein Datensatz benötigt. Dazu wurde das in den TensorFlow Github Tutorials (Link hier!!!) verwendete dataset Modul verwendet, welches die Label anhand der Ordnerstruktur, in der die Bilder vorliegen kodiert. So kann beispielsweise der Trauben Datensatz mit sowohl Test- als auch Trainingsdaten komfortabel erstellt und geladen werden."
   ]
  },
  {
   "cell_type": "code",
   "execution_count": 2,
   "metadata": {},
   "outputs": [],
   "source": [
    "from dataset import load_cached"
   ]
  },
  {
   "cell_type": "markdown",
   "metadata": {},
   "source": [
    "Die Funktion `load_dataset` lädt anhand des Parameters `name` den entsprechenden Datensatz, sofern dieser im Verzeichnis `./dataset/` liegt. Dieses `dataset` Objekt enthält nach dem Laden unter anderem die Anzahl der Klassen, sowie ein Array mit den Klassennamen des Datensatzes."
   ]
  },
  {
   "cell_type": "code",
   "execution_count": 3,
   "metadata": {},
   "outputs": [],
   "source": [
    "def load_dataset(name):\n",
    "    dataset_name = name\n",
    "    \n",
    "    if(name == 'trauben'):\n",
    "        cache_path = 'dataset/trauben.pkl'\n",
    "        in_dir = 'dataset/trauben'\n",
    "    \n",
    "    else:\n",
    "        cache_path = 'dataset/lotr.pkl'\n",
    "        in_dir = 'dataset/lotr/'\n",
    "    \n",
    "    return load_cached(cache_path=cache_path, in_dir=in_dir)"
   ]
  },
  {
   "cell_type": "markdown",
   "metadata": {},
   "source": [
    "Da im Verzeichnis `./dataset/` zwei Datensätze liegen, kann anhand des `dataset_names` Feldes entschieden werden, welcher Datensatz geladen werden soll. Die Funktion `load_dataset(name)` liefert anschließend den entsprechenden Datensatz zurück."
   ]
  },
  {
   "cell_type": "code",
   "execution_count": 4,
   "metadata": {},
   "outputs": [
    {
     "name": "stdout",
     "output_type": "stream",
     "text": [
      "Creating dataset from the files in: dataset/trauben\n",
      "- Data loaded from cache-file: dataset/trauben.pkl\n"
     ]
    }
   ],
   "source": [
    "dataset_names = ['trauben', 'lotr']\n",
    "dataset_name = dataset_names[0]\n",
    "\n",
    "dataset = load_dataset(dataset_name)\n",
    "num_classes, class_names = dataset.num_classes, dataset.class_names"
   ]
  },
  {
   "cell_type": "markdown",
   "metadata": {},
   "source": [
    "Da das `dataset` Modul nur die Pfade der Bilder und nicht die Bilder an sich lädt, wird eine weitere Hilfsfunktion benötigt. Diese Hilfsfunktion lädt die in `image_paths` enthaltenen Bilder in ein Feld und konvertiert diese Daten anschließend in Numpy Arrays."
   ]
  },
  {
   "cell_type": "code",
   "execution_count": 5,
   "metadata": {},
   "outputs": [],
   "source": [
    "from matplotlib.image import imread\n",
    "\n",
    "def load_images(image_paths):\n",
    "    # Load the images from disk.\n",
    "    images = [imread(path) for path in image_paths]\n",
    "    # Convert to a numpy array and return it.\n",
    "    #return np.asarray(images)\n",
    "    return np.asarray(images)"
   ]
  },
  {
   "cell_type": "markdown",
   "metadata": {},
   "source": [
    "Im folgenden werden die Trainings- bzw. Testdaten dem Datensatz entnommen und in entsprechende Felder aufgeteilt. Das Attribut `shape` eines Elementes des Numpy Arrays bestimmt hierbei die Breite, Höhe und auch Tiefe der Bilder innerhalb des Datensatzes, welche später für den Aufbau des Inception-CNN relevant sind. "
   ]
  },
  {
   "cell_type": "code",
   "execution_count": 6,
   "metadata": {},
   "outputs": [],
   "source": [
    "# train data\n",
    "image_paths_train, cls_train, labels_train = dataset.get_training_set()\n",
    "images_train = load_images(image_paths=image_paths_train)\n",
    "\n",
    "# test data\n",
    "image_paths_test, cls_test, labels_test = dataset.get_test_set()\n",
    "images_test = load_images(image_paths=image_paths_test)\n",
    "\n",
    "# setup for scaling\n",
    "img_width, img_height, img_channels = images_train[0].shape"
   ]
  },
  {
   "cell_type": "markdown",
   "metadata": {},
   "source": [
    "Nun kann getestet werden, ob die Test- und Trainingsdaten korrekt geladen wurden. An dieser Stelle könnte auch eine beispielhafte Ausgabe der Daten erfolgen, aber eine Ausgabe der Anzahl an Daten sollte genügen."
   ]
  },
  {
   "cell_type": "code",
   "execution_count": 7,
   "metadata": {
    "scrolled": true
   },
   "outputs": [
    {
     "name": "stdout",
     "output_type": "stream",
     "text": [
      "Datensatz:\n",
      " - Training-set: \t190\n",
      " - Test-set: \t\t20\n"
     ]
    }
   ],
   "source": [
    "print(\"Datensatz:\")\n",
    "print(\" - Training-set: \\t{}\".format(len(image_paths_train)))\n",
    "print(\" - Test-set: \\t\\t{}\".format(len(image_paths_test)))"
   ]
  },
  {
   "cell_type": "markdown",
   "metadata": {},
   "source": [
    "### Benötigte Vars"
   ]
  },
  {
   "cell_type": "markdown",
   "metadata": {},
   "source": [
    "Jedes künstliche neuronale Netzwerk braucht einen Input-Layer. Dieser Input-Layer ist in TensorFlow als \"placeholder\" Variable realisiert, welche durch einen Tensor (ein mehrdimensionales Array) repräsentiert und im folgenden als Platzhalter bezeichnet wird.\n",
    "\n",
    "So können die Variablen `x`, als Platzhalter für den Input (Bilder), `y_true` als Platzhalter für ein Boolean-Feld über die vorhergesagte Klasse des Input und `y_true_cls` als Integer-Wert, der den Index der Klasse des Input in `class_names` abbildet definiert werden."
   ]
  },
  {
   "cell_type": "code",
   "execution_count": 8,
   "metadata": {},
   "outputs": [],
   "source": [
    "x = tf.placeholder(tf.float32, shape=[None, img_width, img_height, img_channels], name='x')\n",
    "y_true = tf.placeholder(tf.float32, shape=[None, num_classes], name='y_true')\n",
    "y_true_cls = tf.argmax(y_true, axis=1)"
   ]
  },
  {
   "cell_type": "markdown",
   "metadata": {},
   "source": [
    "### Hilfsfunktionen zum Erstellen des Graphen"
   ]
  },
  {
   "cell_type": "markdown",
   "metadata": {},
   "source": [
    "Folgend werden einige Variablen, sowie Hilfsfunktionen definiert, die für den Aufbau des Netzwerkes eine wichtige Rolle spielen und von verschiedenen, anderen Funktionen verwendet werden.\n",
    "\n",
    "Die `size_NxN` Variablen dienen zum Definieren der Größe von Filtern innerhalb der Pooling- und Convolutional Layer. Die `moduleN_filter` definieren die Anzahl der verwendeten Filter innerhalb der Convolutional Layer des entsprechenden Inception Moduls. `dropout_rate` definiert die Rate, mit der bereits trainierte Gewichte von Neuronen zufällig entfernt werden. Dieses Vorgehen verhindert das so genannte \"overfitting\" des Netzes während des trainings."
   ]
  },
  {
   "cell_type": "code",
   "execution_count": 9,
   "metadata": {},
   "outputs": [],
   "source": [
    "# Filtergrößen für Convolution und Pooling\n",
    "size_1x1 = [1,1]\n",
    "size_2x2 = [2,2]\n",
    "size_3x3 = [3,3]\n",
    "size_5x5 = [5,5]\n",
    "\n",
    "# Filter Anzahl der convolutions innerhalb Inception Modul\n",
    "module1_filter = 64//2\n",
    "module2_filter = 128//2\n",
    "module3_filter = 256//2\n",
    "module4_filter = 512//2\n",
    "\n",
    "# Dropout rate für Training\n",
    "dropout_rate = 0.4"
   ]
  },
  {
   "cell_type": "markdown",
   "metadata": {},
   "source": [
    "Die Hilfsfunktion `conv2d` erstellt einen Convolutional Layer anhand der übergebenen Parameter und liefert den resultierenden Tensor als Ergebnis zurück.\n",
    "\n",
    "Die Funktion dieser übergebenen Parameter ist wie folgt:\n",
    "* `input`: Bestimmt den vorhergehenden Layer, also den Input der Convolution.\n",
    "* `kernel`: Definiert die Größe jeder Convolution.\n",
    "* `filter`: Definiert die Anzahl resultierender Feature-Maps.\n",
    "* `name`: Bestimmt den Namen des Layer.\n",
    "* `training`: Boolean-Attribut, welches indiziert ob die Variablen des Layer trainiert werden sollen.\n",
    "* `strides`: Bestimmt den Abstand zwischen den einzelnen Convolutions, per default auf 1 gesetzt.\n",
    "\n",
    "Das Auslagern der Erstellung eines Convolutional Layer dient in diesem Beispiel hauptsächlich der Lesbarkeit, bedingt durch die komplexe Architektur des Inception Modells."
   ]
  },
  {
   "cell_type": "code",
   "execution_count": 10,
   "metadata": {},
   "outputs": [],
   "source": [
    "def conv2d(input, filters, kernel, name, training, strides=1):\n",
    "    return tf.layers.conv2d(inputs=input,\n",
    "                            filters=filters,\n",
    "                            kernel_size=kernel,\n",
    "                            strides=strides,\n",
    "                            padding='SAME',\n",
    "                            name=name,\n",
    "                            activation=tf.nn.relu,\n",
    "                            use_bias=True,\n",
    "                            trainable=training)"
   ]
  },
  {
   "cell_type": "markdown",
   "metadata": {},
   "source": [
    "Die Hilfsfunktionen `max_pool` und `avg_pool` erstellen einen Pooling Layer anhand der definierten Parameter. Wie die Namen der Funktionen vermuten lassen, liefert `max_pool` hierbei einen Max-Pooling- und `avg_pool` einen Avg-Pooling Layer zurück.\n",
    "\n",
    "Die übergebenen Parameter sind:\n",
    "* `input`: Bestimmt den vorhergehenden Layer, also den Input des Pooling Schrittes.\n",
    "* `size`: Definiert die Größe jeder Pooling Operation.\n",
    "* `name`: Definiert den Namen des Layer für den TensorFlow Graphen.\n",
    "* `strides`: Definiert den Abstand zwischen jeder Pooling Operation.\n",
    "\n",
    "Wie auch bei der `conv2d` Hilfsfunktion dient das Auslagern des Erstellens der Pooling-Layer der Lesbarkeit innerhalb der Definition des Netzwerkes."
   ]
  },
  {
   "cell_type": "code",
   "execution_count": 11,
   "metadata": {},
   "outputs": [],
   "source": [
    "def max_pool(input, size, name, strides=1):\n",
    "    return tf.layers.max_pooling2d(inputs=input,\n",
    "                                   pool_size=size,\n",
    "                                   strides=strides,\n",
    "                                   padding='SAME',\n",
    "                                   name=name)"
   ]
  },
  {
   "cell_type": "code",
   "execution_count": 12,
   "metadata": {},
   "outputs": [],
   "source": [
    "def avg_pool(input, size, name, strides=1):\n",
    "    return tf.layers.average_pooling2d(inputs=input,\n",
    "                                       pool_size=size,\n",
    "                                       strides=strides,\n",
    "                                       padding='SAME',\n",
    "                                       name=name)\n"
   ]
  },
  {
   "cell_type": "markdown",
   "metadata": {},
   "source": [
    "Die Hilfsfunktion `flatten layer` dient der Anpassung der Dimensionalität eines Layers. Liegt z.B. ein Tensor der Form `[2 x 2 x 4]` vor, wird dieser in die Form `[1 x 1 x 16]` gebracht. Diese Konvertierung wird bei der Überführung der Hidden Layer in die Output Layer benötigt. "
   ]
  },
  {
   "cell_type": "code",
   "execution_count": 13,
   "metadata": {},
   "outputs": [],
   "source": [
    "def flatten_layer(input):\n",
    "    shape = input.get_shape()\n",
    "    features = shape[1:4].num_elements()\n",
    "    layer_flat = tf.reshape(input, [-1, features])\n",
    "    return layer_flat"
   ]
  },
  {
   "cell_type": "markdown",
   "metadata": {},
   "source": [
    "Die Hilfsfunktion `inception_module` definiert ein neues Inception Modul. Dieses Inception Modul besteht hierbei aus ingesamt 5 Convolutional- und einem Pooling-Layer. Dabei wurde eine `5x5` Convolution durch zwei `3x3` Convolutions substituiert, sodass die resultierenden Feature-Maps zwar äquivalent, die Performanz jedoch verbessert wird. Weiterhin wird die `1x1` -> `3x3` Convolution parallel zu der `1x1` -> `3x3` -> `3x3` und dem `3x3` Pooling durchgeführt. Die Funktion der eingesetzten `1x1` Convolutions ist hierbei die Reduzierung der resultierenden Feature-Maps um die Gesamtzahl benötigter Parameter zu beschränken."
   ]
  },
  {
   "cell_type": "code",
   "execution_count": 14,
   "metadata": {},
   "outputs": [],
   "source": [
    "def inception_module(input_layer, num_filters, layer_index, training):\n",
    "    # links\n",
    "    conv_1x1_1 = conv2d(input_layer, num_filters//2, size_1x1, 'conv_1x1_1_{}'.format(layer_index), training)\n",
    "    conv_3x3_1   = conv2d(conv_1x1_1, num_filters, size_3x3, 'conv_3x3_1_{}'.format(layer_index), training)\n",
    "    \n",
    "    # mitte\n",
    "    conv_1x1_2 = conv2d(input_layer, num_filters//4, size_1x1, 'conv_1x1_2_{}'.format(layer_index), training)\n",
    "    conv_3x3_2 = conv2d(conv_1x1_2, num_filters, size_3x3, 'conv_3x3_2_{}'.format(layer_index), training)\n",
    "    conv_3x3_3 = conv2d(conv_3x3_2, num_filters, size_3x3, 'conv_3x3_3_{}'.format(layer_index), training)\n",
    "    \n",
    "    # rechts\n",
    "    pool_3x3   = max_pool(input_layer, size_3x3, 'pool_3x3_{}'.format(layer_index))\n",
    "    conv_1x1_3 = conv2d(pool_3x3, num_filters, size_1x1, 'conv_1x1_3_{}'.format(layer_index), training)\n",
    "    \n",
    "    return tf.nn.relu(tf.concat([conv_3x3_1, conv_3x3_3, conv_1x1_3], axis=3))"
   ]
  },
  {
   "cell_type": "markdown",
   "metadata": {},
   "source": [
    "### Erstellen des TensorFlow Graphen"
   ]
  },
  {
   "cell_type": "markdown",
   "metadata": {},
   "source": [
    "Um das Netzwerk trainieren bzw. evaluieren zu können, muss für die TensorFlow API ein TensorFlow Graph erstellt werden. Dieser Graph enthält alle Berechnungen des Netzwerkes, wobei eine Berechnung (z.B. Matritzenmultiplikation) als Knoten des Graphen abgebildet wird. Diese Darstellung des Netzwerkes, über einen Graphen, ermöglich eine effiziente Berechnung der zu verarbeitenden Daten. \n",
    "\n",
    "Die Funktion `inception_network` übernimmt hierbei die Aufgabe der Definition eines solchen Graphen. Als Parameter werden `images` - die Bilder, welche den Input für das Netzwerk darstellen, sowie `training` - ein Boolean-Wert, welcher indiziert ob die Variablen des Netzwerkes trainiert und optimiert werden sollen übergeben. \n",
    "\n",
    "Das hier definierte Netzwerk besteht aus ingesamt `4` Inception Modulen, welche über `inception_module` dem Graphen hinzugefügt werden und jeweils durch Max-Pooling Layer verknüpft sind. Diese Max-Pooling Layer reduzieren den Input im Verlauf des Graphen in so fern, dass die Breite und Höhe der Bilder mit jedem Inception + Pooling Layer abnimmt, die Anzahl der  Feature-Maps jedoch zunimmt. Diese Vorgehensweise wurde bei dem Entwurf der Inception-v3 Architektur etabliert und erwies sich in den an dieser Architektur durchgeführten Tests als gewinnbringend bezüglich der Fehlerrate von Erkennungen.\n",
    "\n",
    "Weiterhin befindet sich unmittelbar nach den Inception Modulen ein Dropout-Layer mit einer dropout-rate von `dropout` , welcher zufällig Gewichte von bereits trainierten Neuronen entfernt um \"overfitting\" zu vermeiden und den Trainingsprozess zu beschleunigen. Der darauf folgende Softmax-Layer bildet den Output Layer des Netzwerkes und verknüpft den Output der aus den Inception Modulen entstanden ist, mit der Liste an möglichen Klassen."
   ]
  },
  {
   "cell_type": "code",
   "execution_count": 15,
   "metadata": {},
   "outputs": [],
   "source": [
    "def inception_network(images, training):\n",
    "    # Form von images: [100 x 100 x 3]\n",
    "    \n",
    "    # Inception Modul 1 mit jeweils 32 Filtern\n",
    "    inception_layer1 = inception_module(images, module1_filter, 0, training)\n",
    "    # Resultat inception_layer1: [100 x 100 x 96]\n",
    "    \n",
    "    # Max-Pooling Layer 1 mit [2x2] Kernel und Strides 2\n",
    "    maxpool1 = max_pool(inception_layer1, size_2x2, 'maxpool1', strides=2)\n",
    "    # Resultat maxpool1: [50 x 50 x 96]\n",
    "    \n",
    "    # Inception Modul 2 mit jeweils 64 Filtern\n",
    "    inception_layer2 = inception_module(maxpool1, module2_filter, 1, training)\n",
    "    # Resultat inception_layer2: [50 x 50 x 192]\n",
    "    \n",
    "    # Max-Pooling Layer 2 mit [2x2] Kernel und Strides 2\n",
    "    maxpool2 = max_pool(inception_layer2, size_2x2, 'maxpool3', strides=2)\n",
    "    # Resultat maxpool2: [25 x 25 x 192]\n",
    "    \n",
    "    # Inception Modul 3 mit jeweils 128 Filtern\n",
    "    inception_layer3 = inception_module(maxpool2, module3_filter, 2, training)\n",
    "    # Resultat inception_layer3: [25 x 25 x 384]\n",
    "    \n",
    "    # Max-Pooling Layer 3 mit [5x5] Kernel und Strides 5\n",
    "    maxpool3 = max_pool(inception_layer3, size_5x5, 'maxpool4', strides=5)\n",
    "    # Resultat maxpool3: [5 x 5 x 384]\n",
    "    \n",
    "    # Inception Modul 4 mit jeweils 256 Filtern\n",
    "    inception_layer4 = inception_module(maxpool3, module4_filter, 3, training)\n",
    "    # Resultat inception_layer_4: [5 x 5 x 768]\n",
    "    \n",
    "    # Avg-Pooling Layer mit [5x5] Kernel und Strides 5\n",
    "    avgpool = avg_pool(inception_layer4, size_5x5, 'pool', strides=5)\n",
    "    # Resultat avgpool: [1 x 1 x 768]\n",
    "    \n",
    "    # Flat Layer, der avgpool konvertiert\n",
    "    pool_flat = flatten_layer(avgpool)\n",
    "    # Resultat pool_flat: [768]\n",
    "    \n",
    "    # Dropout Layer um \"tote\" Neuronen während des Trainings zu vermeiden\n",
    "    dropout = tf.layers.dropout(inputs=pool_flat, rate=dropout_rate, training=training, name='dropout')\n",
    "\n",
    "    # Linear Layer, der die extrahierten Feature-Maps auf num_classes abbildet\n",
    "    linear = tf.layers.dense(inputs=dropout, units=num_classes, name='softmax')\n",
    "    # Resultat linear: [10]\n",
    "    \n",
    "    # Softmax Aktivierungsfunktion für die Vorhersage der Klasse\n",
    "    y_pred = tf.nn.softmax(linear)\n",
    "    \n",
    "    # Berechnung der Kreuz-Entropie als Verlustfunktion\n",
    "    cross_entropy = tf.nn.softmax_cross_entropy_with_logits(logits=linear, labels=y_true)\n",
    "    \n",
    "    # Berechnung des Verlust-Wertes\n",
    "    loss = tf.reduce_mean(cross_entropy)\n",
    "    \n",
    "    # Klasse und Verlust-Wert zurück geben\n",
    "    return y_pred, loss"
   ]
  },
  {
   "cell_type": "markdown",
   "metadata": {},
   "source": [
    "Auf Grund der Lesbarkeit wird eine zusätliche Funktion `create_network` definiert, welche ein Boolean-Wert entgegennimmt, der bestimmt, ob die in diesem Netzwerk definierten Variablen trainierbar sind. Diese Funktion kapselt den Aufruf der Funktion `inception_network` in so fern, dass der Graph mit einem `variable_scope` versehen wird, sodass die trainierten Variablen auch für den Test des Netzwerkes verwendet werden können. Diese Funktion liefert die vorhergesagte Klasse, sowie den Verlust des aktuellen Trainingsschrittes zurück."
   ]
  },
  {
   "cell_type": "code",
   "execution_count": 16,
   "metadata": {},
   "outputs": [],
   "source": [
    "def create_network(training):\n",
    "    # variable scope nutzen, um trainierte Variablen im Test wieder zu verwenden \n",
    "    with tf.variable_scope('network', reuse=not training):\n",
    "        y_pred, loss = inception_network(images=x, training=training)\n",
    "\n",
    "    return y_pred, loss"
   ]
  },
  {
   "cell_type": "markdown",
   "metadata": {},
   "source": [
    "### Trainingsvariablen\n",
    "Folgend werden einige Variablen, welche für das Training des Netzwerkes relevant sind definiert:\n",
    "\n",
    "* `global_step`: Globale Zählvariable, welche die Trainingsschritte des Netzwerkes zählt.\n",
    "* `loss`: Wert der Verlustfunktion im aktuellen Trainingsschritt.\n",
    "* `optimizer`: Optimierungsfunktion, welche anhand des Verlustwertes die Variablen innerhalb des Netzwerkes optimiert."
   ]
  },
  {
   "cell_type": "code",
   "execution_count": 17,
   "metadata": {},
   "outputs": [],
   "source": [
    "global_step = tf.Variable(initial_value=0, name='global_step', trainable=False)\n",
    "# y_pred hier nicht benötigt, da Training\n",
    "_, loss = create_network(training=True)\n",
    "optimizer = tf.train.AdamOptimizer().minimize(loss, global_step=global_step)"
   ]
  },
  {
   "cell_type": "markdown",
   "metadata": {},
   "source": [
    "### Testvariablen\n",
    "Folgende Variablen werden für das Testen des Netzwerkes benötigt:\n",
    "* `y_pred`: Liste der Wahrscheinlichkeitsverteilung über die Klasse des Input.\n",
    "* `y_pred_cls`: Index der vorhergesagten Klasse innerhalb des `class_names` Feldes."
   ]
  },
  {
   "cell_type": "code",
   "execution_count": 18,
   "metadata": {},
   "outputs": [],
   "source": [
    "# loss hier nicht benötigt, da Test\n",
    "y_pred, _ = create_network(training=False)\n",
    "y_pred_cls = tf.argmax(y_pred, axis=1)"
   ]
  },
  {
   "cell_type": "markdown",
   "metadata": {},
   "source": [
    "### Variablen zur Auswertung der Ergebnisse\n",
    "Die folgenden Variablen werden zur Auswertung des Ergebnisses in sowohl Trainings- als auch Testphase benötigt:\n",
    "* `correct_prediction`: Liste an Boolean-Werten, ob die vorhergesagte Klasse mit der tatsächlichen Klasse übereinstimmt. \n",
    "* `accuracy`: Mittelwert der Liste der in `correct_prediction` enthaltenen Werte. Die Boolean Werte werden dazu in einen Float-Wert konvertiert und anhand dieser Werte ein Mittelwert gebildet."
   ]
  },
  {
   "cell_type": "code",
   "execution_count": 19,
   "metadata": {},
   "outputs": [],
   "source": [
    "correct_prediction = tf.equal(y_pred_cls, y_true_cls)\n",
    "accuracy = tf.reduce_mean(tf.cast(correct_prediction, tf.float32))"
   ]
  },
  {
   "cell_type": "markdown",
   "metadata": {},
   "source": [
    "### Checkpoints\n",
    "Damit das Netzwerk nicht jedes mal neu trainiert werden muss, wenn diese Anwendung ausgeführt wird, kann über die `tf.train.Saver` Klasse das Modell des trainierten Netzwerkes gespeichert werden. Dazu wird über das `os` Modul ggf. das Verzeichnis `save_dir` erstellt, in dem die Checkpoints gespeichert werden. Der Name des jeweiligen Checkpoints wird dabei durch die Zählvariable `global_step`, sowie die Variable `dataset_name` bestimmt.\n",
    "\n",
    "Das von der Klasse `tf.Session()` Objekt, dient dazu `Tensor` Objekte zu evaluieren und kapselt somit die Knoten des TensorFlow Graphen als Operationen."
   ]
  },
  {
   "cell_type": "code",
   "execution_count": 20,
   "metadata": {},
   "outputs": [],
   "source": [
    "saver = tf.train.Saver(max_to_keep=1)\n",
    "session = tf.Session()\n",
    "\n",
    "save_dir = 'checkpoints/'\n",
    "\n",
    "if not os.path.exists(save_dir):\n",
    "    os.makedirs(save_dir)\n",
    "    \n",
    "save_path = os.path.join(save_dir, dataset_name)"
   ]
  },
  {
   "cell_type": "markdown",
   "metadata": {},
   "source": [
    "Nun kann der Checkpoint (sofern dieser bereits existiert) geladen und die darin enthaltenen Variablen initialisiert werden. Sollte kein Checkpoint existieren, werden die in `create_network` definierten Variablen über `tf.global_variables_initializer()` initialisiert."
   ]
  },
  {
   "cell_type": "code",
   "execution_count": 21,
   "metadata": {},
   "outputs": [
    {
     "name": "stdout",
     "output_type": "stream",
     "text": [
      "Versuche letzten Checkpoint zu laden ...\n",
      "INFO:tensorflow:Restoring parameters from checkpoints/cifar10-10000\n",
      "Checkpoint laden gescheitert, initialisiere Variablen\n"
     ]
    }
   ],
   "source": [
    "try:\n",
    "    print(\"Versuche letzten Checkpoint zu laden ...\")\n",
    "    last_chk_path = tf.train.latest_checkpoint(checkpoint_dir=save_dir)\n",
    "\n",
    "    # Versuche die Variablen aus dem Checkpoint zu laden\n",
    "    saver.restore(session, save_path=last_chk_path)\n",
    "    print(\"Checkpoint geladen:\", last_chk_path)\n",
    "\n",
    "except:\n",
    "    print(\"Checkpoint laden gescheitert, initialisiere Variablen\")\n",
    "    session.run(tf.global_variables_initializer())      "
   ]
  },
  {
   "cell_type": "markdown",
   "metadata": {},
   "source": [
    "### Trainieren\n",
    "Der Trainingsprozess erfolgt anhand der im Datensatz definierten Trainingsdaten. Da dies unter Umständen sehr viel Arbeitsspeicher konsumieren kann, wird die Anzahl der in jedem Trainingsschritt verwendeten Daten durch `train_batch_size` limitiert. \n",
    "Die Funktion `random_batch` liefert dabei zufällig `train_batch_size` viele Trainingsdaten inkl. zugehöriger Label, sodass das Netwerk stückweise trainiert werden kann. "
   ]
  },
  {
   "cell_type": "code",
   "execution_count": 22,
   "metadata": {},
   "outputs": [],
   "source": [
    "train_batch_size = 8\n",
    "def random_batch():\n",
    "    num_images = len(images_train)\n",
    "    \n",
    "    idx = np.random.choice(num_images,\n",
    "                          size=train_batch_size,\n",
    "                          replace=False)\n",
    "    \n",
    "    x_batch = images_train[idx]\n",
    "    y_batch = labels_train[idx]\n",
    "\n",
    "    return x_batch, y_batch"
   ]
  },
  {
   "cell_type": "markdown",
   "metadata": {},
   "source": [
    "Die Funktion `optimize` übernimmt das eigentliche Training des Netzwerkes in `num_iterations` vielen Trainingsschritten. In jeder Iteration der `for` Schleife werden dabei `train_batch_size` viele Daten geladen und dem Netzwerk in Form eines `feed_dict` als Input übergeben. Dieses `feed_dict` ist ein Dictionary, welches die eingegebenen Daten mit dem jeweiligen Platzhalter verknüpft (Erinnerung: `x` ist der Platzhalter für die Bilddaten, `y_true` der Platzhalter für die zugehörigen Label).\n",
    "\n",
    "Über das `Session` Objekt können anschließend die Berechnungen innerhalb des TensorFlow Graphen evaluiert werden. Das Übergeben der Parameter `global_step` und `optimizer` an das `Session` Objekt sorgt einerseits für das Inkrementieren der Zählvariable und andererseits für das Optimieren der Variablen innerhalb des Netzwerkes, für das jeweils eingegebene Bild.\n",
    "\n",
    "Weiterhin wird alle `save_step` Iterationen ein Checkpoint des trainierten Modells erstellt und die in dieser Epoche (`save_step` viele Schritte bilden eine Epoche) erreichte Genauigkeit des Trainings ausgegeben."
   ]
  },
  {
   "cell_type": "code",
   "execution_count": 23,
   "metadata": {},
   "outputs": [],
   "source": [
    "def optimize(num_iterations, save_step):\n",
    "    # Startzeit bestimmen\n",
    "    start_time = time.time()\n",
    "    \n",
    "    # num_iterations oft:\n",
    "    for i in range(num_iterations):\n",
    "        # Trainingsdatensatz gestückelt von random_batch() erhalten\n",
    "        x_batch, y_true_batch = random_batch()\n",
    "\n",
    "        # feed_dict anhand des gestückelten Datensatzes erstellen\n",
    "        feed_dict_train = {x: x_batch,\n",
    "                           y_true: y_true_batch}\n",
    "\n",
    "        # optimizer und global_step als Parameter der run Methode übergeben\n",
    "        # und Berechnungen auf dem TensorFlow Graphen ausführen\n",
    "        i_global, _ = session.run([global_step, optimizer],\n",
    "                                  feed_dict=feed_dict_train)\n",
    "        \n",
    "        # Alle save_step Iterationen:\n",
    "        if (i_global % save_step == 0) or (i == num_iterations - 1):\n",
    "            # Bestimme die Genauigkeit des Netzwerkes anhand der Trainingsdaten\n",
    "            batch_acc = session.run(accuracy, feed_dict=feed_dict_train)\n",
    "\n",
    "            # Status ausgeben\n",
    "            print(\"Step: {0:>6}, Training Accuracy: {1:>6.1%}\".format(i_global, batch_acc))\n",
    "\n",
    "            # Modell speichern\n",
    "            saver.save(session, save_path=save_path, global_step=global_step)\n",
    "            print(\"Checkpoint gespeichert @ \", save_path)\n",
    "\n",
    "    # Die Differenz zwischen Start- und Endzeit bestimmen und formatiert ausgeben\n",
    "    time_dif = time.time() - start_time\n",
    "    print(\"Benötigte Zeit: \" + str(timedelta(seconds=int(round(time_dif)))))"
   ]
  },
  {
   "cell_type": "markdown",
   "metadata": {},
   "source": [
    "Der Aufruf der Funktion `optimize` mit 1000 Iterationen und 10 Epochen."
   ]
  },
  {
   "cell_type": "code",
   "execution_count": 24,
   "metadata": {
    "scrolled": true
   },
   "outputs": [],
   "source": [
    "if False:\n",
    "    optimize(num_iterations=1000, save_step=100)"
   ]
  },
  {
   "cell_type": "markdown",
   "metadata": {},
   "source": [
    "## Testen"
   ]
  },
  {
   "cell_type": "markdown",
   "metadata": {},
   "source": [
    "Das Testen des Netzwerkes erfolgt anhand der Testdaten. Die Methode `predict` erhält dabei die drei Parameter `images`, `labels` und `classes` und berechnet die Vorhersage des trainierten Netzwerkes über die Klasse der über `images` übergebenen Bilder. Diese Bilder werden wie in `optimize` auch über ein `feed_dict` an das `Session` Objekt übergeben und mit Hilfe der Platzhalter Variablen `accuracy` und `y_pred_cls` die Genauigkeit der Erkennung sowie die Vorhergesagten Klassen bei der Auswertung des Graphen ermittelt.\n",
    "Anschließend werden die Bilder mit ihrer zugehörigen Klasse, sowie der vorhergesagten Klasse über das `matplotlib` Modul ausgegeben."
   ]
  },
  {
   "cell_type": "code",
   "execution_count": 25,
   "metadata": {},
   "outputs": [],
   "source": [
    "def predict(images, labels, classes, print_images=True):\n",
    "    assert len(images) == len(labels) == len(classes)\n",
    "    \n",
    "    feed_dict_test = {x: images, y_true: labels}\n",
    "    acc, prediction = session.run([accuracy, y_pred_cls], feed_dict=feed_dict_test)\n",
    "    \n",
    "    print('Erreichte Genauigkeit des Datensatzes: {0:>6.1%}'.format(acc))\n",
    "    \n",
    "    if(print_images):\n",
    "        length = len(images)\n",
    "        fig, axes = plt.subplots(length//3, 3)\n",
    "\n",
    "        fig.subplots_adjust(hspace=0.6, wspace=0.3)\n",
    "        # über alle Achsen iterieren\n",
    "        for i, ax in enumerate(axes.flat):\n",
    "            ax.imshow(images[i])\n",
    "            label = \"Vorhersage:{1}\\nTatsächlich:{0}\".format(class_names[classes[i]], class_names[prediction[i]])\n",
    "            ax.set_xlabel(label)\n",
    "\n",
    "            # entferne Ticks, da kein Graph oder Diagramm\n",
    "            ax.set_xticks([])\n",
    "            ax.set_yticks([])\n",
    "\n",
    "        # zeige Bild\n",
    "        plt.show()"
   ]
  },
  {
   "cell_type": "markdown",
   "metadata": {},
   "source": [
    "Folgend werden `num_tests` viele, zufällige Bilder aus den Testdaten ausgewählt und anschließend über die Funktion `predict` ausgewertet sowie ausgegeben."
   ]
  },
  {
   "cell_type": "code",
   "execution_count": 31,
   "metadata": {},
   "outputs": [
    {
     "name": "stdout",
     "output_type": "stream",
     "text": [
      "Erreichte Genauigkeit des Datensatzes:  55.6%\n"
     ]
    },
    {
     "data": {
      "image/png": "[encoded data removed]",
      "text/plain": [
       "<matplotlib.figure.Figure at 0x140cec50>"
      ]
     },
     "metadata": {},
     "output_type": "display_data"
    }
   ],
   "source": [
    "num_images = len(images_test)\n",
    "num_tests = 9\n",
    "\n",
    "idx = np.random.choice(num_images,\n",
    "                       size=num_tests,\n",
    "                       replace=False)\n",
    "\n",
    "predict(images_test[idx], labels_test[idx], cls_test[idx], print_images=True)"
   ]
  }
 ],
 "metadata": {
  "kernelspec": {
   "display_name": "Python 3",
   "language": "python",
   "name": "python3"
  },
  "language_info": {
   "codemirror_mode": {
    "name": "ipython",
    "version": 3
   },
   "file_extension": ".py",
   "mimetype": "text/x-python",
   "name": "python",
   "nbconvert_exporter": "python",
   "pygments_lexer": "ipython3",
   "version": "3.5.2"
  }
 },
 "nbformat": 4,
 "nbformat_minor": 2
}
